{
 "cells": [
  {
   "cell_type": "markdown",
   "id": "932dff82-be20-4fb7-b962-797f48b74444",
   "metadata": {},
   "source": [
    "# Data Science Tools and Ecosystem"
   ]
  },
  {
   "cell_type": "markdown",
   "id": "0ea02df3-2f62-41f6-8bc5-3c021202408d",
   "metadata": {},
   "source": [
    "In this notebook, Data Science Tools and Ecosystem are summarized."
   ]
  },
  {
   "cell_type": "markdown",
   "id": "ce747475-af77-48da-90f3-5073c843f448",
   "metadata": {},
   "source": [
    "Some of the popular languages that Data Scientists use are:\n",
    "1. A\n",
    "2. B\n",
    "3. C\n",
    "4. D"
   ]
  },
  {
   "cell_type": "markdown",
   "id": "d0c23577-b3df-4808-b694-0d38f79c57fe",
   "metadata": {},
   "source": [
    "**Objectives**:\n",
    "  1. A\n",
    "  2. B\n",
    "  3. C\n",
    "  4. D\n"
   ]
  },
  {
   "cell_type": "markdown",
   "id": "5612f39f-a00b-4d80-9d18-b7dce908758b",
   "metadata": {},
   "source": [
    "Some of the commonly used libraries used by Data Scientists include:\n",
    "1. A\n",
    "2. B\n",
    "3. C\n",
    "4. D"
   ]
  },
  {
   "cell_type": "markdown",
   "id": "9523fcd9-1ea1-412d-821c-c150ad5efbf7",
   "metadata": {},
   "source": [
    "|#Data Science Tools|\n",
    "|-|\n",
    "|A|\n",
    "|B|\n",
    "|C|\n",
    "|D|"
   ]
  },
  {
   "cell_type": "markdown",
   "id": "11ede5e8-ad2a-456b-8ac1-bd276e045652",
   "metadata": {},
   "source": [
    "### Below are a few examples of evaluating arithmetic expressions in Python.\n",
    "a=0;\n",
    "b=0;\n",
    "c=a+b\n"
   ]
  },
  {
   "cell_type": "code",
   "execution_count": 3,
   "id": "7d5c3349-9093-44b2-b6e0-48438c2ebec3",
   "metadata": {},
   "outputs": [
    {
     "name": "stdout",
     "output_type": "stream",
     "text": [
      "17\n"
     ]
    }
   ],
   "source": [
    "print((3*4)+5)\n",
    "#This a simple arithmetic expression to mutiply then add integers."
   ]
  },
  {
   "cell_type": "code",
   "execution_count": 7,
   "id": "6baf3e7e-7d27-43c3-956e-2bcebd15e4cc",
   "metadata": {},
   "outputs": [
    {
     "name": "stdout",
     "output_type": "stream",
     "text": [
      "3.3333333333333335\n"
     ]
    }
   ],
   "source": [
    "a=200.0\n",
    "print(a/60)"
   ]
  },
  {
   "cell_type": "markdown",
   "id": "4eebb952-5d1c-450e-ae98-c450885b5ce7",
   "metadata": {},
   "source": [
    "## Omar Taimetov"
   ]
  },
  {
   "cell_type": "markdown",
   "id": "b5c81017-3960-4a84-a81d-9600229af753",
   "metadata": {},
   "source": [
    "## "
   ]
  },
  {
   "cell_type": "code",
   "execution_count": null,
   "id": "17734cb8-56e2-44aa-9287-d3d3b75c1da3",
   "metadata": {},
   "outputs": [],
   "source": []
  }
 ],
 "metadata": {
  "kernelspec": {
   "display_name": "Python 3 (ipykernel)",
   "language": "python",
   "name": "python3"
  },
  "language_info": {
   "codemirror_mode": {
    "name": "ipython",
    "version": 3
   },
   "file_extension": ".py",
   "mimetype": "text/x-python",
   "name": "python",
   "nbconvert_exporter": "python",
   "pygments_lexer": "ipython3",
   "version": "3.13.0"
  }
 },
 "nbformat": 4,
 "nbformat_minor": 5
}
